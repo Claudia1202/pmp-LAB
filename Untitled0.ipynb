{
  "nbformat": 4,
  "nbformat_minor": 0,
  "metadata": {
    "colab": {
      "provenance": [],
      "authorship_tag": "ABX9TyNtMB4pdw/ohA1Qh4FsDLDA",
      "include_colab_link": true
    },
    "kernelspec": {
      "name": "python3",
      "display_name": "Python 3"
    },
    "language_info": {
      "name": "python"
    }
  },
  "cells": [
    {
      "cell_type": "markdown",
      "metadata": {
        "id": "view-in-github",
        "colab_type": "text"
      },
      "source": [
        "<a href=\"https://colab.research.google.com/github/Claudia1202/pmp-LAB/blob/main/Untitled0.ipynb\" target=\"_parent\"><img src=\"https://colab.research.google.com/assets/colab-badge.svg\" alt=\"Open In Colab\"/></a>"
      ]
    },
    {
      "cell_type": "code",
      "execution_count": null,
      "metadata": {
        "id": "puXyOXcqhzUH"
      },
      "outputs": [],
      "source": [
        "import numpy as np\n",
        "import matplotlib.pyplot as plt\n",
        "from scipy.stats import expon\n",
        "\n",
        "lambda1 = 4  #primul mecanic\n",
        "lambda2 = 6  #al doilea mecanic\n",
        "\n",
        "prob_mecanic1 = 0.4\n",
        "clienti = 10000\n",
        "\n",
        "servire_mecanic1 = expon(1/lambda1).rvs(int(clienti * prob_mecanic1))\n",
        "servire_mecanic2 = expon(1/lambda2).rvs(int(clienti * (1 - prob_mecanic1)))\n",
        "\n",
        "timp_servire = np.concatenate((servire_mecanic1, servire_mecanic2))\n",
        "\n",
        "media_x = np.mean(timp_servire)  #media\n",
        "deviatia_standard_x = np.std(timp_servire)  #dev standard\n",
        "\n",
        "print(f\"Media: {media_x:.2f} ore\")\n",
        "print(f\"Deviatia standard: {deviatia_standard_x:.2f} ore\")\n",
        "\n",
        "plt.hist(timp_servire, bins=50, density=True, alpha=0.6, color='b', label='Distributia lui X')\n",
        "plt.xlabel('Timp')\n",
        "plt.ylabel('Densitate')\n",
        "plt.title('Distributia timpului de servire pentru clienti')\n",
        "plt.show()\n",
        "\n",
        "\n"
      ]
    }
  ]
}